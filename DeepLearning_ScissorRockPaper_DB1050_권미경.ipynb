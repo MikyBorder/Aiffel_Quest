{
 "cells": [
  {
   "cell_type": "markdown",
   "id": "2603abd6",
   "metadata": {},
   "source": [
    "Deep Learning Project_Original\n",
    "\n",
    "\n",
    "DATA_cnt = 300"
   ]
  },
  {
   "cell_type": "code",
   "execution_count": 1,
   "id": "1ba5873e",
   "metadata": {},
   "outputs": [
    {
     "name": "stdout",
     "output_type": "stream",
     "text": [
      "2.6.0\n",
      "1.22.2\n"
     ]
    }
   ],
   "source": [
    "import tensorflow as tf\n",
    "import numpy as np\n",
    "\n",
    "\n",
    "print(tf.__version__)\n",
    "print(np.__version__)"
   ]
  },
  {
   "cell_type": "code",
   "execution_count": 2,
   "id": "79866787",
   "metadata": {},
   "outputs": [
    {
     "name": "stdout",
     "output_type": "stream",
     "text": [
      "PIL Library import completed\n"
     ]
    }
   ],
   "source": [
    "from PIL import Image\n",
    "import glob\n",
    "import os \n",
    "\n",
    "print(\"PIL Library import completed\")"
   ]
  },
  {
   "cell_type": "code",
   "execution_count": 3,
   "id": "58a2b76b",
   "metadata": {},
   "outputs": [
    {
     "name": "stdout",
     "output_type": "stream",
     "text": [
      "350 images to be resized\n",
      "350 images resized.\n",
      "Rock Image Resized completed \n"
     ]
    }
   ],
   "source": [
    "def resize_images(img_path):\n",
    "    images=glob.glob(img_path + \"/*.jpg\")\n",
    "    \n",
    "    print(len(images), \"images to be resized\")\n",
    "    \n",
    "    target_size=(28,28)\n",
    "    for img in images:\n",
    "        old_img = Image.open(img)\n",
    "        new_img=old_img.resize(target_size, Image.ANTIALIAS)\n",
    "        new_img.save(img, \"JPEG\")\n",
    "        \n",
    "    print(len(images), \"images resized.\")\n",
    "    \n",
    "image_dir_path = os.getenv(\"HOME\") +\"/aiffel/rock_scissor_paper/rock\" \n",
    "resize_images(image_dir_path)\n",
    "\n",
    "\n",
    "print(\"Rock Image Resized completed \")"
   ]
  },
  {
   "cell_type": "code",
   "execution_count": 4,
   "id": "dbb4f902",
   "metadata": {},
   "outputs": [
    {
     "name": "stdout",
     "output_type": "stream",
     "text": [
      "350 images to be resized\n",
      "350 images resized.\n",
      "Scissor Image Resized completed \n"
     ]
    }
   ],
   "source": [
    "image_dir_path = os.getenv(\"HOME\") +\"/aiffel/rock_scissor_paper/scissor\" \n",
    "resize_images(image_dir_path)\n",
    "\n",
    "\n",
    "print(\"Scissor Image Resized completed \")"
   ]
  },
  {
   "cell_type": "code",
   "execution_count": 5,
   "id": "3241627f",
   "metadata": {},
   "outputs": [
    {
     "name": "stdout",
     "output_type": "stream",
     "text": [
      "350 images to be resized\n",
      "350 images resized.\n",
      "Paper Image Resized completed \n"
     ]
    }
   ],
   "source": [
    "image_dir_path = os.getenv(\"HOME\") +\"/aiffel/rock_scissor_paper/paper\" \n",
    "resize_images(image_dir_path)\n",
    "\n",
    "\n",
    "print(\"Paper Image Resized completed \")"
   ]
  },
  {
   "cell_type": "code",
   "execution_count": 6,
   "id": "2669d0df",
   "metadata": {},
   "outputs": [
    {
     "name": "stdout",
     "output_type": "stream",
     "text": [
      "학습데이터(x_train)의 이미지 개수는 1050 입니다.\n",
      "x_train shape;(1050, 28, 28, 3)\n",
      "y_train shape:(1050,)\n"
     ]
    }
   ],
   "source": [
    "def load_data(img_path, number_of_data = 1050):\n",
    "    img_size=28\n",
    "    color=3\n",
    "    imgs=np.zeros(number_of_data*img_size*img_size*color, dtype=np.int32).reshape(number_of_data, img_size, img_size, color)\n",
    "    labels=np.zeros(number_of_data, dtype=np.int32)\n",
    "    \n",
    "    idx=0\n",
    "    \n",
    "        \n",
    "    for file in glob.iglob(img_path+'/scissor/*.jpg'):\n",
    "        img = np.array(Image.open(file), dtype=np.int32)\n",
    "        imgs[idx,:,:,:]=img\n",
    "        labels[idx]=0\n",
    "        idx=idx+1       \n",
    "        \n",
    "    for file in glob.iglob(img_path+'/rock/*.jpg'):\n",
    "        img = np.array(Image.open(file), dtype=np.int32)\n",
    "        imgs[idx,:,:,:]=img\n",
    "        labels[idx]=1\n",
    "        idx=idx+1               \n",
    "    \n",
    "         \n",
    "    for file in glob.iglob(img_path+'/paper/*.jpg'):\n",
    "        img = np.array(Image.open(file), dtype=np.int32)\n",
    "        imgs[idx,:,:,:]=img\n",
    "        labels[idx]=2\n",
    "        idx=idx+1               \n",
    "    \n",
    "    print(\"학습데이터(x_train)의 이미지 개수는\", idx, \"입니다.\")\n",
    "    return imgs, labels\n",
    "\n",
    "image_dir_path = os.getenv(\"HOME\")+ \"/aiffel/rock_scissor_paper\"\n",
    "(x_train, y_train)= load_data(image_dir_path)\n",
    "x_train_norm = x_train/255.0\n",
    "\n",
    "print(\"x_train shape;{}\". format(x_train.shape))\n",
    "print(\"y_train shape:{}\".format(y_train.shape))"
   ]
  },
  {
   "cell_type": "code",
   "execution_count": 7,
   "id": "44c82868",
   "metadata": {},
   "outputs": [
    {
     "name": "stdout",
     "output_type": "stream",
     "text": [
      "라벨: 0\n"
     ]
    },
    {
     "data": {
      "image/png": "[encoded data removed]",
      "text/plain": [
       "<Figure size 432x288 with 1 Axes>"
      ]
     },
     "metadata": {
      "needs_background": "light"
     },
     "output_type": "display_data"
    }
   ],
   "source": [
    "import matplotlib.pyplot as plt\n",
    "\n",
    "plt.imshow(x_train[0])\n",
    "print('라벨:',  y_train[0])"
   ]
  },
  {
   "cell_type": "markdown",
   "id": "4f38f654",
   "metadata": {},
   "source": [
    "Deep Learning Network Design"
   ]
  },
  {
   "cell_type": "code",
   "execution_count": 8,
   "id": "1c61af1b",
   "metadata": {},
   "outputs": [
    {
     "name": "stdout",
     "output_type": "stream",
     "text": [
      "Model: \"sequential\"\n",
      "_________________________________________________________________\n",
      "Layer (type)                 Output Shape              Param #   \n",
      "=================================================================\n",
      "conv2d (Conv2D)              (None, 26, 26, 16)        448       \n",
      "_________________________________________________________________\n",
      "max_pooling2d (MaxPooling2D) (None, 13, 13, 16)        0         \n",
      "_________________________________________________________________\n",
      "conv2d_1 (Conv2D)            (None, 11, 11, 32)        4640      \n",
      "_________________________________________________________________\n",
      "max_pooling2d_1 (MaxPooling2 (None, 5, 5, 32)          0         \n",
      "_________________________________________________________________\n",
      "flatten (Flatten)            (None, 800)               0         \n",
      "_________________________________________________________________\n",
      "dense (Dense)                (None, 32)                25632     \n",
      "_________________________________________________________________\n",
      "dense_1 (Dense)              (None, 3)                 99        \n",
      "=================================================================\n",
      "Total params: 30,819\n",
      "Trainable params: 30,819\n",
      "Non-trainable params: 0\n",
      "_________________________________________________________________\n"
     ]
    }
   ],
   "source": [
    "import tensorflow as tf\n",
    "from tensorflow import keras\n",
    "import numpy as np\n",
    "\n",
    "# hyperparameter setting \n",
    "\n",
    "n_channel_1 = 16\n",
    "n_channel_2 = 32\n",
    "n_dense = 32\n",
    "n_train_epoch = 10\n",
    "\n",
    "# modeling\n",
    "\n",
    "model = keras.models.Sequential()\n",
    "model.add(keras.layers.Conv2D(n_channel_1, (3,3), activation='relu', input_shape=(28, 28,3)))\n",
    "model.add(keras.layers.MaxPool2D(2,2))\n",
    "model.add(keras.layers.Conv2D(n_channel_2, (3,3), activation='relu'))\n",
    "model.add(keras.layers.MaxPooling2D((2,2)))\n",
    "model.add(keras.layers.Flatten())\n",
    "model.add(keras.layers.Dense(n_dense, activation='relu'))\n",
    "model.add(keras.layers.Dense(3, activation='softmax')) \n",
    "\n",
    "model.summary()"
   ]
  },
  {
   "cell_type": "markdown",
   "id": "7c4bd361",
   "metadata": {},
   "source": [
    "Model Fitting"
   ]
  },
  {
   "cell_type": "code",
   "execution_count": 9,
   "id": "40a31a83",
   "metadata": {},
   "outputs": [
    {
     "name": "stdout",
     "output_type": "stream",
     "text": [
      "Epoch 1/10\n",
      "33/33 [==============================] - 1s 23ms/step - loss: 8.5550 - accuracy: 0.4314\n",
      "Epoch 2/10\n",
      "33/33 [==============================] - 1s 22ms/step - loss: 0.8353 - accuracy: 0.7210\n",
      "Epoch 3/10\n",
      "33/33 [==============================] - 1s 23ms/step - loss: 0.4173 - accuracy: 0.8486\n",
      "Epoch 4/10\n",
      "33/33 [==============================] - 1s 22ms/step - loss: 0.3129 - accuracy: 0.8943\n",
      "Epoch 5/10\n",
      "33/33 [==============================] - 1s 22ms/step - loss: 0.1681 - accuracy: 0.9562\n",
      "Epoch 6/10\n",
      "33/33 [==============================] - 1s 23ms/step - loss: 0.0923 - accuracy: 0.9743\n",
      "Epoch 7/10\n",
      "33/33 [==============================] - 1s 22ms/step - loss: 0.0515 - accuracy: 0.9876\n",
      "Epoch 8/10\n",
      "33/33 [==============================] - 1s 22ms/step - loss: 0.0262 - accuracy: 0.9962\n",
      "Epoch 9/10\n",
      "33/33 [==============================] - 1s 23ms/step - loss: 0.0125 - accuracy: 1.0000\n",
      "Epoch 10/10\n",
      "33/33 [==============================] - 1s 22ms/step - loss: 0.0078 - accuracy: 1.0000\n"
     ]
    },
    {
     "data": {
      "text/plain": [
       "<keras.callbacks.History at 0x79ed69dd22b0>"
      ]
     },
     "execution_count": 9,
     "metadata": {},
     "output_type": "execute_result"
    }
   ],
   "source": [
    "model.compile(optimizer='adam',\n",
    "             loss='sparse_categorical_crossentropy',\n",
    "             metrics=['accuracy'])\n",
    "\n",
    "model.fit(x_train, y_train, epochs=n_train_epoch)"
   ]
  },
  {
   "cell_type": "markdown",
   "id": "8f3ddf23",
   "metadata": {},
   "source": [
    "Model Testing"
   ]
  },
  {
   "cell_type": "code",
   "execution_count": 10,
   "id": "5fa184b6",
   "metadata": {},
   "outputs": [
    {
     "name": "stdout",
     "output_type": "stream",
     "text": [
      "150 images to be resized\n",
      "150 images resized.\n",
      "Rock Image Resized completed \n"
     ]
    }
   ],
   "source": [
    "def resize_images(img_path):\n",
    "    images=glob.glob(img_path + \"/*.jpg\")\n",
    "    \n",
    "    print(len(images), \"images to be resized\")\n",
    "    \n",
    "    target_size=(28,28)\n",
    "    for img in images:\n",
    "        old_img = Image.open(img)\n",
    "        new_img=old_img.resize(target_size, Image.ANTIALIAS)\n",
    "        new_img.save(img, \"JPEG\")\n",
    "        \n",
    "    print(len(images), \"images resized.\")\n",
    "    \n",
    "image_dir_path = os.getenv(\"HOME\") +\"/aiffel/rock_scissor_paper/test/rock\" \n",
    "resize_images(image_dir_path)\n",
    "\n",
    "\n",
    "print(\"Rock Image Resized completed \")"
   ]
  },
  {
   "cell_type": "code",
   "execution_count": 11,
   "id": "7953a909",
   "metadata": {},
   "outputs": [
    {
     "name": "stdout",
     "output_type": "stream",
     "text": [
      "150 images to be resized\n",
      "150 images resized.\n",
      "Rock Image Resized completed \n"
     ]
    }
   ],
   "source": [
    "    \n",
    "image_dir_path = os.getenv(\"HOME\") +\"/aiffel/rock_scissor_paper/test/scissor\" \n",
    "resize_images(image_dir_path)\n",
    "\n",
    "\n",
    "print(\"Rock Image Resized completed \")"
   ]
  },
  {
   "cell_type": "code",
   "execution_count": 12,
   "id": "e645aaa7",
   "metadata": {},
   "outputs": [
    {
     "name": "stdout",
     "output_type": "stream",
     "text": [
      "150 images to be resized\n",
      "150 images resized.\n",
      "Rock Image Resized completed \n"
     ]
    }
   ],
   "source": [
    "\n",
    "image_dir_path = os.getenv(\"HOME\") +\"/aiffel/rock_scissor_paper/test/paper\" \n",
    "resize_images(image_dir_path)\n",
    "\n",
    "\n",
    "print(\"Rock Image Resized completed \")"
   ]
  },
  {
   "cell_type": "code",
   "execution_count": 13,
   "id": "55be09e3",
   "metadata": {},
   "outputs": [],
   "source": [
    "def load_data(img_path, number_of_data = 450):\n",
    "    img_size=28\n",
    "    color=3\n",
    "    imgs=np.zeros(number_of_data*img_size*img_size*color, dtype=np.int32).reshape(number_of_data, img_size, img_size, color)\n",
    "    labels=np.zeros(number_of_data, dtype=np.int32)\n",
    "    \n",
    "    idx=0\n",
    "    \n",
    "        \n",
    "    for file in glob.iglob(img_path+'/scissor/*.jpg'):\n",
    "        img = np.array(Image.open(file), dtype=np.int32)\n",
    "        imgs[idx,:,:,:]=img\n",
    "        labels[idx]=0\n",
    "        idx=idx+1       \n",
    "        \n",
    "    for file in glob.iglob(img_path+'/rock/*.jpg'):\n",
    "        img = np.array(Image.open(file), dtype=np.int32)\n",
    "        imgs[idx,:,:,:]=img\n",
    "        labels[idx]=1\n",
    "        idx=idx+1               \n",
    "    \n",
    "         \n",
    "    for file in glob.iglob(img_path+'/paper/*.jpg'):\n",
    "        img = np.array(Image.open(file), dtype=np.int32)\n",
    "        imgs[idx,:,:,:]=img\n",
    "        labels[idx]=2\n",
    "        idx=idx+1               \n",
    "    \n",
    "    print(\"테스트데이터(x_test)의 이미지 개수는\", idx, \"입니다.\")\n",
    "    return imgs, labels\n"
   ]
  },
  {
   "cell_type": "code",
   "execution_count": 14,
   "id": "0dd271bf",
   "metadata": {},
   "outputs": [
    {
     "name": "stdout",
     "output_type": "stream",
     "text": [
      "테스트데이터(x_test)의 이미지 개수는 450 입니다.\n",
      "x_test shape: (450, 28, 28, 3)\n",
      "y_test shape:(450,)\n"
     ]
    }
   ],
   "source": [
    "\n",
    "image_dir_path = os.getenv(\"HOME\") + \"/aiffel/rock_scissor_paper/test\"\n",
    "(x_test, y_test)=load_data(image_dir_path)\n",
    "x_test_nor = x_test/255.0\n",
    "\n",
    "print(\"x_test shape: {}\".format(x_test.shape))\n",
    "print(\"y_test shape:{}\".format(y_test.shape)) "
   ]
  },
  {
   "cell_type": "code",
   "execution_count": 15,
   "id": "fc2c0b0b",
   "metadata": {},
   "outputs": [
    {
     "name": "stdout",
     "output_type": "stream",
     "text": [
      "15/15 - 0s - loss: 0.5660 - accuracy: 0.8600\n",
      "test_loss: 0.5659591555595398\n",
      "test_accuracy:0.8600000143051147\n"
     ]
    }
   ],
   "source": [
    "test_loss, test_accuracy = model.evaluate(x_test, y_test, verbose=2)\n",
    "print(\"test_loss: {}\".format(test_loss))\n",
    "print(\"test_accuracy:{}\".format(test_accuracy))"
   ]
  },
  {
   "cell_type": "code",
   "execution_count": null,
   "id": "8a54d036",
   "metadata": {},
   "outputs": [],
   "source": []
  }
 ],
 "metadata": {
  "kernelspec": {
   "display_name": "Python 3 (ipykernel)",
   "language": "python",
   "name": "python3"
  },
  "language_info": {
   "codemirror_mode": {
    "name": "ipython",
    "version": 3
   },
   "file_extension": ".py",
   "mimetype": "text/x-python",
   "name": "python",
   "nbconvert_exporter": "python",
   "pygments_lexer": "ipython3",
   "version": "3.9.7"
  }
 },
 "nbformat": 4,
 "nbformat_minor": 5
}
